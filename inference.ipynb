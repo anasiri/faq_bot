{
 "cells": [
  {
   "cell_type": "code",
   "execution_count": 1,
   "metadata": {},
   "outputs": [],
   "source": [
    "import torch\n",
    "from torch.utils.data import DataLoader\n",
    "from dataloader.test_dataset import QADataset_Test\n",
    "from networks import SiameseNet\n",
    "from options import get_opts\n",
    "import numpy as np\n",
    "from sklearn.metrics import classification_report\n",
    "\n",
    "from utils import load_vocab, load_checkpoint\n",
    "from hazm import Normalizer,word_tokenize"
   ]
  },
  {
   "cell_type": "code",
   "execution_count": 2,
   "metadata": {},
   "outputs": [],
   "source": [
    "import argparse\n",
    "parser = argparse.ArgumentParser()\n",
    "parser.add_argument('--vector_size',type=int,default=300)\n",
    "parser.add_argument('--max_no_tokens',type=int,default=20)\n",
    "parser.add_argument('--training_size',type=int,default=10000)\n",
    "parser.add_argument('--embedding_dim',type=int,default=300)\n",
    "parser.add_argument('--hidden_dim',type=int,default=200)\n",
    "parser.add_argument('--epochs',type=int,default=10)\n",
    "parser.add_argument('--lr_rate',type=float,default=0.0001)\n",
    "parser.add_argument('--batch_size',type=int,default=64)\n",
    "\n",
    "opt = parser.parse_known_args()[0]"
   ]
  },
  {
   "cell_type": "code",
   "execution_count": 3,
   "metadata": {},
   "outputs": [],
   "source": [
    "START_TAG=\"<START>\"\n",
    "STOP_TAG=\"<STOP>\"\n",
    "PAD_TAG=\"<PAD>\"\n",
    "OOV_TAG=\"<OOV>\"\n",
    "normalizer = Normalizer()"
   ]
  },
  {
   "cell_type": "code",
   "execution_count": 4,
   "metadata": {},
   "outputs": [],
   "source": [
    "def preprocess(x):\n",
    "    out = normalizer.normalize(x)\n",
    "    out = word_tokenize(out)\n",
    "    out = [i for i in out if i not in [\"؟\", \"!\", \".\", \"،\", \",\", \"?\", \":\", \"<\", \">\", \"(\", \")\", \"{\", \"}\"]]\n",
    "    return out\n",
    "\n",
    "def pad_sentence(sentence):\n",
    "    new_sentence = [START_TAG]\n",
    "    new_sentence = new_sentence + sentence[:min(opt.max_no_tokens - 2, len(sentence))]\n",
    "    new_sentence.append(STOP_TAG)\n",
    "    new_sentence = new_sentence + [PAD_TAG] * max(opt.max_no_tokens - len(new_sentence), 0)\n",
    "    return new_sentence\n",
    "\n",
    "def to_tensor(seq):\n",
    "    idxs = [vocab[w] if w in vocab else vocab[OOV_TAG] for w in seq ]\n",
    "    return torch.tensor(idxs, dtype=torch.long)"
   ]
  },
  {
   "cell_type": "code",
   "execution_count": 5,
   "metadata": {},
   "outputs": [],
   "source": [
    "vocab = load_vocab('checkpoints/vocab.pickle')\n",
    "model = SiameseNet(opt, len(vocab)).eval()\n",
    "load_checkpoint(model, 'checkpoints/final_model.pth')"
   ]
  },
  {
   "cell_type": "code",
   "execution_count": 22,
   "metadata": {},
   "outputs": [
    {
     "name": "stdout",
     "output_type": "stream",
     "text": [
      "tensor([[0.2599]], grad_fn=<SigmoidBackward>)\n"
     ]
    }
   ],
   "source": [
    "s1 = \"آب\"\n",
    "s2 = \"آتش\"\n",
    "\n",
    "s1 = preprocess(s1)\n",
    "s1 = pad_sentence(s1)\n",
    "s1 = to_tensor(s1).unsqueeze(0)\n",
    "\n",
    "s2 = preprocess(s2)\n",
    "s2 = pad_sentence(s2)\n",
    "s2 = to_tensor(s2).unsqueeze(0)\n",
    "\n",
    "predication = model(s1, s2)\n",
    "# loss backward\n",
    "# predication = (predication > 0.5).type(torch.float)\n",
    "print(predication)"
   ]
  },
  {
   "cell_type": "code",
   "execution_count": null,
   "metadata": {},
   "outputs": [],
   "source": []
  }
 ],
 "metadata": {
  "kernelspec": {
   "display_name": "Python [conda env:chatbot] *",
   "language": "python",
   "name": "conda-env-chatbot-py"
  },
  "language_info": {
   "codemirror_mode": {
    "name": "ipython",
    "version": 3
   },
   "file_extension": ".py",
   "mimetype": "text/x-python",
   "name": "python",
   "nbconvert_exporter": "python",
   "pygments_lexer": "ipython3",
   "version": "3.7.10"
  }
 },
 "nbformat": 4,
 "nbformat_minor": 4
}
